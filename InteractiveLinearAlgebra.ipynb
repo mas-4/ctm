{
 "cells": [
  {
   "cell_type": "markdown",
   "id": "fd36780c-984d-4078-ba1d-5a6ab67e3972",
   "metadata": {},
   "source": [
    "# Notes for [Interactive Linear Algebra](http://textbooks.math.gatech.edu/ila/index.html)"
   ]
  },
  {
   "cell_type": "markdown",
   "id": "aaaff97c-5690-40a8-9863-b848088340f5",
   "metadata": {},
   "source": [
    "Engineers need to solve many, many equations in many, many variables.\n",
    "\n",
    "Often it is enough to know some information about the set of solutions, without having to solve the equations in the first place. For instance, does there exist a solution? What does the solution set look like geometrically? Is there still a solution if we change the\n",
    "26 to a 27?"
   ]
  },
  {
   "cell_type": "code",
   "execution_count": null,
   "id": "a7cecb83-8c87-4480-b16b-6c1e6970905a",
   "metadata": {},
   "outputs": [],
   "source": []
  },
  {
   "cell_type": "code",
   "execution_count": null,
   "id": "91f9424e-e5c4-4b86-ac79-e24860c8d725",
   "metadata": {},
   "outputs": [],
   "source": []
  }
 ],
 "metadata": {
  "kernelspec": {
   "display_name": "Python 3 (ipykernel)",
   "language": "python",
   "name": "python3"
  },
  "language_info": {
   "codemirror_mode": {
    "name": "ipython",
    "version": 3
   },
   "file_extension": ".py",
   "mimetype": "text/x-python",
   "name": "python",
   "nbconvert_exporter": "python",
   "pygments_lexer": "ipython3",
   "version": "3.9.6"
  }
 },
 "nbformat": 4,
 "nbformat_minor": 5
}
