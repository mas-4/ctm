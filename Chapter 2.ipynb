{
 "cells": [
  {
   "cell_type": "code",
   "execution_count": 1,
   "id": "4c2dd0ea",
   "metadata": {},
   "outputs": [],
   "source": [
    "from plotting import plot\n",
    "from image import file2image\n",
    "import numpy as np\n",
    "import matplotlib.pyplot as plt\n",
    "from math import pi, e\n",
    "\n",
    "def complexcoords(lst):\n",
    "    return [l.real for l in lst], [l.imag for l in lst]"
   ]
  },
  {
   "cell_type": "markdown",
   "id": "aa82f882",
   "metadata": {},
   "source": [
    "# Book\n",
    "\n",
    "## Definition 2.1.1\n",
    "A vector with four entries, each of which is a real number, is called a 4-vector over $\\mathbb{R}$\n",
    "\n",
    "## Definition 2.1.2\n",
    "For a field $F$ and a positive integer $n$, a vector with $n$ entries, each belonging to $F$, is called an $n$-vector over $F$. The set of $n$-vectors over $F$ is denoted $F^{n}$.\n",
    "\n",
    "## Definition 2.2.2\n",
    "For a finite set *D* and a field $F$, a *D*-vector over $F$ is a function from *D* to $F$."
   ]
  },
  {
   "cell_type": "markdown",
   "id": "54ad477f",
   "metadata": {},
   "source": [
    "# Me\n",
    "\n",
    "The book states the domain *D* must be finite. As did 3b1b."
   ]
  },
  {
   "cell_type": "markdown",
   "id": "783b12ab",
   "metadata": {},
   "source": [
    "# Book\n",
    "A vector whose values are zero [i.e., that there are values within the vector who are zero] is called a *sparse* vector. If no more than $k$ of the entries are nonzero, we say the vector is $k$-*sparse*."
   ]
  },
  {
   "cell_type": "markdown",
   "id": "be773b05",
   "metadata": {},
   "source": [
    "# Me\n",
    "\n",
    "Okay, so he goes through some applications of linear algebra and the depth of this is kind of insane. Like anything can be abused with linalg. Kind of flabbergasting honestly.\n",
    "\n",
    "He describes images as being a function that maps the pixel position to pixel intensity but this is kind of weird. We represent each pixel as a set of 3 numbers corresponding to the RGB value 0-255. But the intensity, where it is a single number, cannot be translated from a single number. You could do it with complex numbers, but only for two values.\n",
    "\n",
    "So are there multi-dimensional functions? Where a single dimension is mapped to 3? There must be something to that."
   ]
  },
  {
   "cell_type": "code",
   "execution_count": 2,
   "id": "df7f155f",
   "metadata": {},
   "outputs": [],
   "source": [
    "L = [[2,2],[3,2],[1.75,1],[2,1],[2.25,1],[2.5,1],[2.75,1],[3,1],[3.25,1]]"
   ]
  },
  {
   "cell_type": "markdown",
   "id": "1710214e",
   "metadata": {},
   "source": [
    "Ah, fuck it I can already tell that L = S in vector space instead of quaternions (assuming quaternions are complex number space).\n",
    "\n",
    "Vector analysis is basically the same thing as quaternion analysis using lists instead of complex numbers. The limitation of complex numbers is that they are necessarily 2-dimensional, but they also seem to yield interesting results (like $e^{\\pi \\cdot i} = -1$. But ultimately it seems to me they kind of inform each other?"
   ]
  },
  {
   "cell_type": "markdown",
   "id": "de46c0fb",
   "metadata": {},
   "source": [
    "Klein states that vectors can be represented as an arrow with tail at origin and head at the point (e.g., [3,1.5]). Then states, explicitly, \"or, equivalently by an arrow whose tail is at (-2,-1) and whose head is at (1,0.5)\" which would be the exact same line translated (-2,1).\n",
    "\n",
    "So a vector is ambiguously positioned."
   ]
  },
  {
   "cell_type": "markdown",
   "id": "a77780b0",
   "metadata": {},
   "source": [
    "# Important\n",
    "\n",
    "Order of Operations dictates scalar multiplication has precedence over vector addition."
   ]
  },
  {
   "cell_type": "code",
   "execution_count": 3,
   "id": "32902e51",
   "metadata": {},
   "outputs": [],
   "source": [
    "from plotting import plot\n",
    "plot(L,5)"
   ]
  },
  {
   "cell_type": "code",
   "execution_count": 4,
   "id": "4922d55a",
   "metadata": {},
   "outputs": [],
   "source": [
    "class Vec:\n",
    "    def __init__(self, labels, function):\n",
    "        self.D = labels\n",
    "        self.f = function"
   ]
  },
  {
   "cell_type": "code",
   "execution_count": 5,
   "id": "21dbf29d",
   "metadata": {},
   "outputs": [],
   "source": [
    "v = Vec({'A','B','C'}, {'A': 1})"
   ]
  },
  {
   "cell_type": "code",
   "execution_count": 6,
   "id": "ca836f1c",
   "metadata": {},
   "outputs": [],
   "source": [
    "def zero_vec(D): return Vec(D,{})"
   ]
  },
  {
   "cell_type": "code",
   "execution_count": 7,
   "id": "34cab739",
   "metadata": {},
   "outputs": [
    {
     "data": {
      "text/plain": [
       "<__main__.Vec at 0x7f84089e35e0>"
      ]
     },
     "execution_count": 7,
     "metadata": {},
     "output_type": "execute_result"
    }
   ],
   "source": [
    "zero_vec({'A','B','C'})"
   ]
  },
  {
   "cell_type": "code",
   "execution_count": 8,
   "id": "0f5aabd2",
   "metadata": {},
   "outputs": [],
   "source": [
    "def scalar_mul(v,alpha):\n",
    "    return Vec(v.D, {d:val*alpha for d, val in v.f.items()})"
   ]
  },
  {
   "cell_type": "code",
   "execution_count": 9,
   "id": "f15e4f20",
   "metadata": {},
   "outputs": [],
   "source": [
    "def getitem(v: Vec, d) -> Vec:\n",
    "    if d in v.f:\n",
    "        return v.f[d]\n",
    "    return 0\n",
    "\n",
    "def add(u: Vec,v: Vec) -> Vec:\n",
    "    return Vec(u.D, {d:getitem(u,d)+getitem(v,d) for d in u.D})"
   ]
  },
  {
   "cell_type": "markdown",
   "id": "bb9d7696",
   "metadata": {},
   "source": [
    "The solution to Problem 2.8.3 is just to chose *two* uniformly distributed random vectors over $v_A$ and add them both to the truth, see below"
   ]
  },
  {
   "cell_type": "code",
   "execution_count": 13,
   "id": "866be3e7",
   "metadata": {},
   "outputs": [],
   "source": [
    "def add(a,b):\n",
    "    out = []\n",
    "    for c, d in zip(a,b):\n",
    "        out.append(str(int(c)^int(d)))\n",
    "    return ''.join(out)\n",
    "truth = '11111'\n",
    "secreta = '10101'\n",
    "secretb = '01010'\n",
    "secretc = add(truth, add(secreta,secretb))\n",
    "assert truth == add(secreta, add(secretb,secretc))"
   ]
  },
  {
   "cell_type": "code",
   "execution_count": 15,
   "id": "fb7aa3ac",
   "metadata": {},
   "outputs": [
    {
     "data": {
      "text/plain": [
       "56"
      ]
     },
     "execution_count": 15,
     "metadata": {},
     "output_type": "execute_result"
    }
   ],
   "source": [
    "def list_dot(u,v): return sum((ui * vi for ui, vi in zip(u,v)))\n",
    "list_dot([2,3,4],[5,6,7])"
   ]
  },
  {
   "cell_type": "code",
   "execution_count": 24,
   "id": "40a58ba4",
   "metadata": {},
   "outputs": [],
   "source": [
    "def dot_product_list(needle: list, haystack: list) -> list:\n",
    "    s = len(haystack) - len(needle)\n",
    "    return [list_dot(needle, haystack[i:i+s]) for i in range(s+1)]"
   ]
  },
  {
   "cell_type": "code",
   "execution_count": 22,
   "id": "234049e1",
   "metadata": {},
   "outputs": [
    {
     "data": {
      "text/plain": [
       "[2, 2, 0, 0]"
      ]
     },
     "execution_count": 22,
     "metadata": {},
     "output_type": "execute_result"
    }
   ],
   "source": [
    "dot_product_list([1,-1,1,1,-1,1],[1,-1,1,1,1,-1,1,1,1],)"
   ]
  },
  {
   "cell_type": "code",
   "execution_count": 23,
   "id": "0f2e69c7",
   "metadata": {},
   "outputs": [
    {
     "data": {
      "text/plain": [
       "[14, 20, 26, 32]"
      ]
     },
     "execution_count": 23,
     "metadata": {},
     "output_type": "execute_result"
    }
   ],
   "source": [
    "dot_product_list([1,2,3],[1,2,3,4,5,6])"
   ]
  },
  {
   "cell_type": "markdown",
   "id": "a7b6b1f2",
   "metadata": {},
   "source": [
    "**Definition 2.9.6:** A *linear equation* is an equation of the form $a \\cdot x = \\beta$, where $a$ is a vector, $\\beta$ is a scalar, and $x$ is a vector variable."
   ]
  },
  {
   "cell_type": "markdown",
   "id": "a6f8ccff",
   "metadata": {},
   "source": [
    "**Definition 2.9.10:** In general, a *system of linear equations* (often abbreviated *linear system*) is a collection of equations:\n",
    "\n",
    "$$\n",
    "\\begin{align*}\n",
    "a_1 \\cdot x  &= \\beta_1 \\\\\n",
    "a_2 \\cdot x  &= \\beta_2 \\\\\n",
    "&\\vdots \\\\\n",
    "a_m \\cdot x  &= \\beta_m\n",
    "\\end{align*}\n",
    "$$\n",
    "\n",
    "where $x$ is a vector variable. A *solution* is a vector $\\hat{x}$ that satisfies all the equations."
   ]
  },
  {
   "cell_type": "markdown",
   "id": "aa1a35e4",
   "metadata": {},
   "source": [
    "**Note:** So \"vector variable\" was terminology that confused me, but for this system of equations, $a$ is obviously a known vector, $x$ is an unknown vector, and $\\beta$ is a scalar. Still a *wee bit* confused.\n",
    "\n",
    "The book presents the following example: a vector representing power consumption per component and a vector representing duration of power consumption per component. Combining them with the dot-product *duration $\\cdot$ rate = 625J* gives us the total energy consumption for the components.\n",
    "\n",
    "But if we don't know the rate vector and we know several durations from different tests, we can present a system of linear equations\n",
    "\n",
    "$$\n",
    "\\begin{align*}\n",
    "\\text{duration}_1 \\cdot \\text{rate} &= \\beta_1 \\\\\n",
    "\\text{duration}_2 \\cdot \\text{rate} &= \\beta_2 \\\\\n",
    "\\text{duration}_3 \\cdot \\text{rate} &= \\beta_3\n",
    "\\end{align*}\n",
    "$$\n",
    "\n",
    "we can compute rate like any high schooler solves a system of linear equations (substitution, elimination, etc.)\n",
    "\n",
    "This is fascinating because we're just rehashing high school math in a higher level application"
   ]
  },
  {
   "cell_type": "markdown",
   "id": "32728ce9",
   "metadata": {},
   "source": [
    "**Question 2.9.11** *Uniqueness of solution to a linear system:* For a given linear system how can we tell if there is only one solution?"
   ]
  },
  {
   "cell_type": "markdown",
   "id": "28ff0ad8",
   "metadata": {},
   "source": [
    "**Computational problem 2.9.12:** *Solving a linear system\n",
    "\n",
    "- *input:* a list of vectors $a_1,...,a_m$, and corresponding scalars $\\beta_1,...,\\beta_m$ (the right-hand sides)\n",
    "- *output*: a vector $\\hat{x}$ satistfying the linear system or a report that none exists."
   ]
  },
  {
   "cell_type": "markdown",
   "id": "0e2fe8eb",
   "metadata": {},
   "source": [
    "**Note**: Fascinating segments in 2.9.3 on measuring similarity using dot-products for voting records and audio segments.\n",
    "\n",
    "See cells above with function `dot_product_list`."
   ]
  },
  {
   "cell_type": "markdown",
   "id": "11c60270",
   "metadata": {},
   "source": [
    "**Note:** Fascinating foray into an interesting question in 2.9.7: discussing a challenge-response authentication scheme over GF(2) using dot-products (reminds me of Diffie-Hellman honestly) that ends with a question:\n",
    "\n",
    "Assuming $x$ is the password and $a_1,..,a_m$ are challenge bytes which combine with $x$ to yield parity bit $\\beta_1,...,\\beta_m$, Eve can listen to the challenge-response dialog and yield this system of linear equations:\n",
    "\n",
    "$$\n",
    "\\begin{align*}\n",
    "a_1 \\cdot x  &= \\beta_1 \\\\\n",
    "a_2 \\cdot x  &= \\beta_2 \\\\\n",
    "&\\vdots \\\\\n",
    "a_m \\cdot x  &= \\beta_m\n",
    "\\end{align*}\n",
    "$$\n",
    "\n",
    "Now, obviously Eve could try to solve this system to reduce her search space for a simple brute force attack, but Klein asks an interesting question for the next section:"
   ]
  },
  {
   "cell_type": "markdown",
   "id": "9d33758f",
   "metadata": {},
   "source": [
    "**Question 2.9.20:** Does a system of linear equations imply any other linear equations. If so, what other linear equations?"
   ]
  },
  {
   "cell_type": "markdown",
   "id": "51721ef1",
   "metadata": {},
   "source": [
    "**Commutativity** When you take a dot-product of two vectors, the order of the two does not matter:\n",
    "\n",
    "**Proposition 2.9.21 (Commutativity of dot-product):** $u \\cdot v = v \\cdot u$"
   ]
  },
  {
   "cell_type": "markdown",
   "id": "8bb471f4",
   "metadata": {},
   "source": [
    "**Proof**\n",
    "$$\n",
    "\\begin{align*}\n",
    "[u_1,u_2,...,u_n]\\cdot[v_1,v_2,v_n] &= u_1 v_1 + u_2 v_2 + \\cdots + u_n v_n \\\\\n",
    "&= v_1 u_1 + v_2 u_2 + \\cdots + v_n u_n \\\\\n",
    "&= [v_1,v_2,...,v_n]\\cdot[u_1,u_2,...,u_n]\n",
    "\\end{align*}\n",
    "$$"
   ]
  },
  {
   "cell_type": "markdown",
   "id": "04bb40e7",
   "metadata": {},
   "source": [
    "**Homogeneity** Mulitplying one of the vectors in the dot-product is equivalent to multiplying the value of the dot-product.\n",
    "\n",
    "**Proposition 2.9.22 (Homogeneity of dot-product):** $(\\alpha u) \\cdot v = \\alpha (u \\cdot v) = u \\cdot (\\alpha v)$"
   ]
  },
  {
   "cell_type": "markdown",
   "id": "091eeba5",
   "metadata": {},
   "source": [
    "This is a bit weird, and I'm trying to get my head around it. I'm supposed to prove it. I'll get around to it.\n",
    "\n",
    "$$\n",
    "\\begin{align*}\n",
    "\\end{align*}\n",
    "$$"
   ]
  },
  {
   "cell_type": "markdown",
   "id": "c490afdb",
   "metadata": {},
   "source": [
    "**Proposition 2.9.25 (Dot-product distributes over vector addition):** $(u + v) \\cdot w = u \\cdot w + v \\cdot w$"
   ]
  },
  {
   "cell_type": "markdown",
   "id": "0af1b3b1",
   "metadata": {},
   "source": [
    "**Proof**\n",
    "\n",
    "Write $u = [u_1,...,u_n]$, $v = [v_1,...,v_n]$, and $w = [w_1,...,w_n]$\n",
    "\n",
    "$$\n",
    "\\begin{align*}\n",
    "(u + v) \\cdot w &= ([u_1,...,u_n]+[v_1,..,v_n]) \\cdot [w_1,...,w_n] \\\\\n",
    "&= [u_1 + v_1, ... , u_n + v_n] \\cdot [w_1,...,w_n] \\\\\n",
    "&= (u_1 + v_1)w_1 + \\cdots + (u_n + v_n)w_n \\\\\n",
    "&= u_1w_1 + v_1w_1 + \\cdots + u_nw_n + v_nw_n \\\\\n",
    "&= (u_1w_1 + \\cdots + u_nw_n) + (v_1w_1 + \\cdots + v_nw_n) \\\\\n",
    "&= [u_1,...,u_n] \\cdot [w_1,...,w_n] + [v_1,...,v_n] \\cdot [w_1,...,w_n] \\\\\n",
    "&= u \\cdot w + v \\cdot w\n",
    "\\end{align*}\n",
    "$$"
   ]
  },
  {
   "cell_type": "markdown",
   "id": "54dc35ab",
   "metadata": {},
   "source": []
  }
 ],
 "metadata": {
  "kernelspec": {
   "display_name": "Python 3",
   "language": "python",
   "name": "python3"
  },
  "language_info": {
   "codemirror_mode": {
    "name": "ipython",
    "version": 3
   },
   "file_extension": ".py",
   "mimetype": "text/x-python",
   "name": "python",
   "nbconvert_exporter": "python",
   "pygments_lexer": "ipython3",
   "version": "3.9.6"
  }
 },
 "nbformat": 4,
 "nbformat_minor": 5
}
