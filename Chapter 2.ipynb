{
 "cells": [
  {
   "cell_type": "code",
   "execution_count": 1,
   "id": "4c2dd0ea",
   "metadata": {},
   "outputs": [],
   "source": [
    "from plotting import plot\n",
    "from image import file2image\n",
    "import numpy as np\n",
    "import matplotlib.pyplot as plt\n",
    "from math import pi, e\n",
    "\n",
    "def complexcoords(lst):\n",
    "    return [l.real for l in lst], [l.imag for l in lst]"
   ]
  },
  {
   "cell_type": "markdown",
   "id": "aa82f882",
   "metadata": {},
   "source": [
    "# Book\n",
    "\n",
    "## Definition 2.1.1\n",
    "A vector with four entries, each of which is a real number, is called a 4-vector over $\\mathbb{R}$\n",
    "\n",
    "## Definition 2.1.2\n",
    "For a field $F$ and a positive integer $n$, a vector with $n$ entries, each belonging to $F$, is called an $n$-vector over $F$. The set of $n$-vectors over $F$ is denoted $F^{n}$.\n",
    "\n",
    "## Definition 2.2.2\n",
    "For a finite set *D* and a field $F$, a *D*-vector over $F$ is a function from *D* to $F$."
   ]
  },
  {
   "cell_type": "markdown",
   "id": "54ad477f",
   "metadata": {},
   "source": [
    "# Me\n",
    "\n",
    "The book states the domain *D* must be finite. As did 3b1b."
   ]
  },
  {
   "cell_type": "markdown",
   "id": "783b12ab",
   "metadata": {},
   "source": [
    "# Book\n",
    "A vector whose values are zero [i.e., that there are values within the vector who are zero] is called a *sparse* vector. If no more than $k$ of the entries are nonzero, we say the vector is $k$-*sparse*."
   ]
  },
  {
   "cell_type": "markdown",
   "id": "be773b05",
   "metadata": {},
   "source": [
    "# Me\n",
    "\n",
    "Okay, so he goes through some applications of linear algebra and the depth of this is kind of insane. Like anything can be abused with linalg. Kind of flabbergasting honestly.\n",
    "\n",
    "He describes images as being a function that maps the pixel position to pixel intensity but this is kind of weird. We represent each pixel as a set of 3 numbers corresponding to the RGB value 0-255. But the intensity, where it is a single number, cannot be translated from a single number. You could do it with complex numbers, but only for two values.\n",
    "\n",
    "So are there multi-dimensional functions? Where a single dimension is mapped to 3? There must be something to that."
   ]
  },
  {
   "cell_type": "code",
   "execution_count": 2,
   "id": "df7f155f",
   "metadata": {},
   "outputs": [],
   "source": [
    "L = [[2,2],[3,2],[1.75,1],[2,1],[2.25,1],[2.5,1],[2.75,1],[3,1],[3.25,1]]"
   ]
  },
  {
   "cell_type": "markdown",
   "id": "1710214e",
   "metadata": {},
   "source": [
    "Ah, fuck it I can already tell that L = S in vector space instead of quaternions (assuming quaternions are complex number space).\n",
    "\n",
    "Vector analysis is basically the same thing as quaternion analysis using lists instead of complex numbers. The limitation of complex numbers is that they are necessarily 2-dimensional, but they also seem to yield interesting results (like $e^{\\pi \\cdot i} = -1$. But ultimately it seems to me they kind of inform each other?"
   ]
  },
  {
   "cell_type": "markdown",
   "id": "de46c0fb",
   "metadata": {},
   "source": [
    "Klein states that vectors can be represented as an arrow with tail at origin and head at the point (e.g., [3,1.5]). Then states, explicitly, \"or, equivalently by an arrow whose tail is at (-2,-1) and whose head is at (1,0.5)\" which would be the exact same line translated (-2,1).\n",
    "\n",
    "So a vector is ambiguously positioned."
   ]
  },
  {
   "cell_type": "markdown",
   "id": "a77780b0",
   "metadata": {},
   "source": [
    "# Important\n",
    "\n",
    "Order of Operations dictates scalar multiplication has precedence over vector addition."
   ]
  },
  {
   "cell_type": "code",
   "execution_count": 3,
   "id": "32902e51",
   "metadata": {},
   "outputs": [],
   "source": [
    "from plotting import plot\n",
    "plot(L,5)"
   ]
  },
  {
   "cell_type": "code",
   "execution_count": 4,
   "id": "4922d55a",
   "metadata": {},
   "outputs": [],
   "source": [
    "class Vec:\n",
    "    def __init__(self, labels, function):\n",
    "        self.D = labels\n",
    "        self.f = function"
   ]
  },
  {
   "cell_type": "code",
   "execution_count": 5,
   "id": "21dbf29d",
   "metadata": {},
   "outputs": [],
   "source": [
    "v = Vec({'A','B','C'}, {'A': 1})"
   ]
  },
  {
   "cell_type": "code",
   "execution_count": 6,
   "id": "ca836f1c",
   "metadata": {},
   "outputs": [],
   "source": [
    "def zero_vec(D): return Vec(D,{})"
   ]
  },
  {
   "cell_type": "code",
   "execution_count": 7,
   "id": "34cab739",
   "metadata": {},
   "outputs": [
    {
     "data": {
      "text/plain": [
       "<__main__.Vec at 0x7f84089e35e0>"
      ]
     },
     "execution_count": 7,
     "metadata": {},
     "output_type": "execute_result"
    }
   ],
   "source": [
    "zero_vec({'A','B','C'})"
   ]
  },
  {
   "cell_type": "code",
   "execution_count": 8,
   "id": "0f5aabd2",
   "metadata": {},
   "outputs": [],
   "source": [
    "def scalar_mul(v,alpha):\n",
    "    return Vec(v.D, {d:val*alpha for d, val in v.f.items()})"
   ]
  },
  {
   "cell_type": "code",
   "execution_count": 9,
   "id": "f15e4f20",
   "metadata": {},
   "outputs": [],
   "source": [
    "def getitem(v: Vec, d) -> Vec:\n",
    "    if d in v.f:\n",
    "        return v.f[d]\n",
    "    return 0\n",
    "\n",
    "def add(u: Vec,v: Vec) -> Vec:\n",
    "    return Vec(u.D, {d:getitem(u,d)+getitem(v,d) for d in u.D})"
   ]
  },
  {
   "cell_type": "code",
   "execution_count": null,
   "id": "866be3e7",
   "metadata": {},
   "outputs": [],
   "source": []
  }
 ],
 "metadata": {
  "kernelspec": {
   "display_name": "Python 3",
   "language": "python",
   "name": "python3"
  },
  "language_info": {
   "codemirror_mode": {
    "name": "ipython",
    "version": 3
   },
   "file_extension": ".py",
   "mimetype": "text/x-python",
   "name": "python",
   "nbconvert_exporter": "python",
   "pygments_lexer": "ipython3",
   "version": "3.9.6"
  }
 },
 "nbformat": 4,
 "nbformat_minor": 5
}
