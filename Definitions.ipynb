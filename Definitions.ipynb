{
 "cells": [
  {
   "cell_type": "markdown",
   "id": "1eff5a0c",
   "metadata": {},
   "source": [
    "**Definition 1.4.2 (Conjugate):** The *conjugate* of a complex number $z$, written $\\bar{z}$, is defined as $z$.real - $z$.imag."
   ]
  },
  {
   "cell_type": "markdown",
   "id": "4275706e",
   "metadata": {},
   "source": [
    "**Definition 2.1.1 ($n$-vector over $\\mathbb{R}$):** A vector with four entries, each of which is a real number, is called a 4-vector over $\\mathbb{R}$"
   ]
  },
  {
   "cell_type": "markdown",
   "id": "d11ce53d",
   "metadata": {},
   "source": [
    "**Definition 2.1.2 ($n$-vector over $F$):**\n",
    "For a field $F$ and a positive integer $n$, a vector with $n$ entries, each belonging to $F$, is called an $n$-vector over $F$. The set of $n$-vectors over $F$ is denoted $F^{n}$."
   ]
  },
  {
   "cell_type": "markdown",
   "id": "a182b437",
   "metadata": {},
   "source": [
    "**Definition 2.2.2 (D-vector over $F$):** For a finite set *D* and a field $F$, a *D*-vector over $F$ is a function from *D* to $F$."
   ]
  }
 ],
 "metadata": {
  "kernelspec": {
   "display_name": "Python 3 (ipykernel)",
   "language": "python",
   "name": "python3"
  },
  "language_info": {
   "codemirror_mode": {
    "name": "ipython",
    "version": 3
   },
   "file_extension": ".py",
   "mimetype": "text/x-python",
   "name": "python",
   "nbconvert_exporter": "python",
   "pygments_lexer": "ipython3",
   "version": "3.9.6"
  }
 },
 "nbformat": 4,
 "nbformat_minor": 5
}
