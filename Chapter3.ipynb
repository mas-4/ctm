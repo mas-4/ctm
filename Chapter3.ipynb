{
 "cells": [
  {
   "cell_type": "markdown",
   "id": "70b11edf",
   "metadata": {},
   "source": [
    "**Definition 3.1.1 (Linear Combination)**: Suppose $v_1,...,v_n$ are vectors. We define a *linear combination* of $v_1,...,v_n$ to be a sum\n",
    "\n",
    "$$\n",
    "\\alpha_1v_1 + \\cdots + \\alpha_nv_n\n",
    "$$\n",
    "\n",
    "where $\\alpha_1,...,\\alpha_n$ are scalars. In this context, we refer to $\\alpha_1,...,\\alpha_n$ as the *coefficients* in this linear combination. In particular, $\\alpha_1$ is the coefficient of $v_1$ in the linear combination, $\\alpha_2$ is the linear coefficient of $v_2$, and so on."
   ]
  },
  {
   "cell_type": "markdown",
   "id": "f33991ed",
   "metadata": {},
   "source": [
    "Just some math from Tom about euclidean distance and dot products\n",
    "\n",
    "$$\n",
    "||x-y||^2=||x||^2-2x \\cdot y+||y||^2\n",
    "$$"
   ]
  },
  {
   "cell_type": "markdown",
   "id": "7c1a6e8b",
   "metadata": {},
   "source": [
    "**Definition 3.2.1 (Span)**: The set of all linear combinations of vectors $v_1,...,v_n$ is called the *span* of these vectors and is written $\\text{Span} \\{v_1,...,v_n\\}$."
   ]
  },
  {
   "cell_type": "markdown",
   "id": "7262fce5",
   "metadata": {},
   "source": [
    "Examples:\n",
    "\n",
    "In $\\text{Span} \\{[1,1],[0,1]\\}$ over GF(2) there are 4 vectors:\n",
    "\n",
    "```\n",
    "0[1,1] + 0[0,1] = [0,0]\n",
    "0[1,1] + 1[0,1] = [0,1]\n",
    "1[1,1] + 0[0,1] = [1,1]\n",
    "1[1,1] + 1[0,1] = [1,0]\n",
    "```\n",
    "\n",
    "And in $\\text{Span} \\{[1,1]\\}$ over GF(2)\n",
    "\n",
    "```\n",
    "0[1,1] = [0,0]\n",
    "1[1,1] = [1,1]\n",
    "```"
   ]
  },
  {
   "cell_type": "markdown",
   "id": "5cdf1049",
   "metadata": {},
   "source": [
    "Generally, if you know that a vector $\\hat{x}$ satisfies linear equations\n",
    "\n",
    "$$\n",
    "\\begin{align*}\n",
    "a_1 \\cdot x &= \\beta_1 \\\\\n",
    "&\\vdots \\\\\n",
    "a_m \\cdot x &= \\beta_m\n",
    "\\end{align*}\n",
    "$$\n",
    "\n",
    "over any fiend then you can calculate the dot-product with $\\hat{x}$ of any vector $a$ that is in the span $a_1,...,a_m$."
   ]
  },
  {
   "cell_type": "markdown",
   "id": "0af1747e",
   "metadata": {},
   "source": [
    "Suppose $a = \\alpha_1 a_1 + \\cdots + \\alpha_m a_m$. Then\n",
    "\n",
    "$$\n",
    "\\begin{align*}\n",
    "a \\cdot x &= (\\alpha_1 a1 + \\cdots + \\alpha_m a_m) \\cdot x \\\\\n",
    "&= \\alpha_1 a_1 \\cdot x + \\cdots + \\alpha_m a_m \\cdot x \\qquad\\text{by distributivity} \\\\\n",
    "&= \\alpha_1 (a_1 \\cdot x) + \\cdots + \\alpha_m (a_m \\cdot x) \\qquad\\text{by homogeneity} \\\\\n",
    "&= \\alpha_1 \\beta_1 + \\cdots + \\alpha_m \\beta_m\n",
    "\\end{align*}\n",
    "$$"
   ]
  },
  {
   "cell_type": "markdown",
   "id": "180058d0",
   "metadata": {},
   "source": [
    "# The Eve Problem\n",
    "\n",
    "We have 3 known challenges: $a_1 = [1,1,1,0,0], a_2 = [0,1,1,1,0], a_3 = [0,0,1,1,1]$ and the corresponding responses $\\beta_1 = 1, \\beta_2 = 0, \\beta_3 = 1$.\n",
    "\n",
    "\"We consider all linear combinations of $a_{1-3}$. Since there are 3 vectors, there are 3 coefficients $\\alpha_{1-3}$ to choose. For each coefficient $\\alpha_i$ there are two choices, $\\{0,1\\}$.\"\n",
    "\n",
    "$$\n",
    "\\begin{align*}\n",
    "0a_1 + 0a_2 + 0a_3 &= [0,0,0,0,0] \\\\\n",
    "1a_1 + 0a_2 + 0a_3 &= [1,1,1,0,0] \\\\\n",
    "0a_1 + 1a_2 + 0a_3 &= [0,1,1,1,0] \\\\\n",
    "1a_1 + 1a_2 + 0a_3 &= [1,0,0,1,0] \\\\\n",
    "0a_1 + 0a_2 + 1a_3 &= [0,0,1,1,1] \\\\\n",
    "1a_1 + 0a_2 + 1a_3 &= [1,1,0,1,1] \\\\\n",
    "0a_1 + 1a_2 + 1a_3 &= [0,1,0,0,1] \\\\\n",
    "1a_1 + 1a_2 + 1a_3 &= [1,0,1,0,1] \\\\\n",
    "\\end{align*}\n",
    "$$\n",
    "\n",
    "If the challenge is in the span, Eve can calcluate the right response to it. For example, suppose the challenge is `[1,0,1,0,1]`, the last vector. We see from the table that\n",
    "\n",
    "$$\n",
    "[1,0,1,0,1] = 1a_1 + 1a_2 + 1a_3\n",
    "$$\n",
    "\n",
    "Therefore, following the above derivation, we have $0 = 1\\beta_1 + 1\\beta_2 + 1\\beta_3$"
   ]
  },
  {
   "cell_type": "markdown",
   "id": "a2ca93f1",
   "metadata": {},
   "source": [
    "**Me:** I guess I'm still a wee bit confused by this. Why should we only be able to derive the single combinations of these? Why couldn't we derive an infinite (or near infinite) set of combinations through multiples of a given one of these. Why couldn't we test $1a_1 + 1a_1 = [0,0,0,1,1]$? Then, $\\beta_1 + \\beta_1 = 0$ would be the response to $[0,0,0,1,1]$, no?\n",
    "\n",
    "I guess I can test it."
   ]
  },
  {
   "cell_type": "code",
   "execution_count": 1,
   "id": "2e1a2aab",
   "metadata": {},
   "outputs": [
    {
     "data": {
      "text/plain": [
       "0"
      ]
     },
     "execution_count": 1,
     "metadata": {},
     "output_type": "execute_result"
    }
   ],
   "source": [
    "gfadd = lambda a,b: a^b\n",
    "def gfsum(a):\n",
    "    s = a[0]\n",
    "    for n in a[1:]:\n",
    "        s = gfadd(s,n)\n",
    "    return s\n",
    "def gfaddvec(u,v):\n",
    "    return [gfadd(a,b) for a,b in zip(u,v)]\n",
    "\n",
    "password = [0,1,0,1,1]\n",
    "challenge1 = [1,0,0,1,1]\n",
    "response = gfsum([a*b for a,b in zip(password,challenge1)])\n",
    "response"
   ]
  },
  {
   "cell_type": "code",
   "execution_count": 15,
   "id": "7bfb6abd",
   "metadata": {},
   "outputs": [
    {
     "data": {
      "text/plain": [
       "[1, 1, 0, 0, 0]"
      ]
     },
     "execution_count": 15,
     "metadata": {},
     "output_type": "execute_result"
    }
   ],
   "source": [
    "newchallenge = gfaddvec(password,challenge1)\n",
    "newchallenge"
   ]
  },
  {
   "cell_type": "code",
   "execution_count": 16,
   "id": "4a8dbf9a",
   "metadata": {},
   "outputs": [
    {
     "data": {
      "text/plain": [
       "0"
      ]
     },
     "execution_count": 16,
     "metadata": {},
     "output_type": "execute_result"
    }
   ],
   "source": [
    "newresponse = gfsum([a*b for a,b in zip(password,challenge1)])\n",
    "newresponse"
   ]
  },
  {
   "cell_type": "markdown",
   "id": "c470be70",
   "metadata": {},
   "source": [
    "Maybe I'm missing something, but this seems almost to be a proof that this is possible. Since this is kind of a modulo operation over 0,1, we can specify that you can actually have 0,1, or 2 for the linear combinations, right?\n",
    "\n",
    "In GF(2) $\\hat{x}^{2x} \\ne \\hat{x}$ but $\\hat{x}^{2x+1} = \\hat{x}$. So any linear combination can have zero, one, or two $\\hat{x}$.\n",
    "\n",
    "So in fact, there are 27 possible combinations for 3 known responses, not 8.\n",
    "\n",
    "I don't see how this is wrong? In fact, I assume this is a simple combination challenges^possibilities, so why wouldn't we have\n",
    "\n",
    "I'm doing bad math on my combinations somehow."
   ]
  },
  {
   "cell_type": "markdown",
   "id": "1b38d6c0",
   "metadata": {},
   "source": [
    "**Definition 3.2.9 (Generators)**: Let $\\mathcal{V}$ be a set of vectors. If $v_1,...,v_n$ are vectors such that $\\mathcal{V} = \\text{Span} \\{v_1,...,v_n\\}$ then we say $\\{v_1,...,v_n\\}$ is a *generating set* for $\\mathcal{V}$, and we refer to the vectors $v_1,...,v_n$ as *generators* for $\\mathcal{V}$"
   ]
  },
  {
   "cell_type": "code",
   "execution_count": 24,
   "id": "9060d824",
   "metadata": {},
   "outputs": [
    {
     "data": {
      "text/plain": [
       "[[0, 0, 0, 0, 0],\n",
       " [0, 0, 0, 0, 1],\n",
       " [0, 0, 0, 0, 1],\n",
       " [0, 0, 0, 1, 1],\n",
       " [0, 0, 0, 0, 1],\n",
       " [0, 0, 1, 0, 1],\n",
       " [0, 0, 0, 1, 1],\n",
       " [0, 0, 1, 1, 1],\n",
       " [0, 0, 0, 0, 1],\n",
       " [0, 1, 0, 0, 1],\n",
       " [0, 0, 1, 0, 1],\n",
       " [0, 1, 0, 1, 1],\n",
       " [0, 0, 0, 1, 1],\n",
       " [0, 1, 1, 0, 1],\n",
       " [0, 0, 1, 1, 1],\n",
       " [0, 1, 1, 1, 1],\n",
       " [0, 0, 0, 0, 1],\n",
       " [1, 0, 0, 0, 1],\n",
       " [0, 1, 0, 0, 1],\n",
       " [1, 0, 0, 1, 1],\n",
       " [0, 0, 1, 0, 1],\n",
       " [1, 0, 1, 0, 1],\n",
       " [0, 1, 0, 1, 1],\n",
       " [1, 0, 1, 1, 1],\n",
       " [0, 0, 0, 1, 1],\n",
       " [1, 1, 0, 0, 1],\n",
       " [0, 1, 1, 0, 1],\n",
       " [1, 1, 0, 1, 1],\n",
       " [0, 0, 1, 1, 1],\n",
       " [1, 1, 1, 0, 1],\n",
       " [0, 1, 1, 1, 1],\n",
       " [1, 1, 1, 1, 1]]"
      ]
     },
     "execution_count": 24,
     "metadata": {},
     "output_type": "execute_result"
    }
   ],
   "source": [
    "possibles = [[int(j) for j in str(bin(i)).strip('0b').zfill(5)] for i in range(32)]\n",
    "possibles"
   ]
  },
  {
   "cell_type": "code",
   "execution_count": 26,
   "id": "d3e59369",
   "metadata": {},
   "outputs": [
    {
     "data": {
      "text/plain": [
       "[0, 0, 0, 0, 0]"
      ]
     },
     "execution_count": 26,
     "metadata": {},
     "output_type": "execute_result"
    }
   ],
   "source": [
    "gfaddvec(possibles[0],possibles[0])"
   ]
  },
  {
   "cell_type": "markdown",
   "id": "a388bd7e",
   "metadata": {},
   "source": [
    "Yeah, I was wrong, because adding the all ones vector with itself yields the all zeroes vector, but not the reverse. It is *not* a modulus-like operation."
   ]
  },
  {
   "cell_type": "markdown",
   "id": "7cbedd00",
   "metadata": {},
   "source": [
    "In mathematics, a linear combination is an expression constructed from a set of terms by multiplying each term by a constant and adding the results (e.g. a linear combination of x and y would be any expression of the form ax + by, where a and b are constants).\n",
    "\n",
    "[From Wikipedia][0]\n",
    "\n",
    "[0]: https://en.wikipedia.org/wiki/Linear_combination"
   ]
  },
  {
   "cell_type": "markdown",
   "id": "3ccd4fe5",
   "metadata": {},
   "source": [
    "Consider the set of all linear combinations of a single nonzero vector v:\n",
    "\n",
    "$$\n",
    "\\text{Span} \\{v\\} = \\{\\alpha v : \\alpha \\in \\mathbb{R}\\}\n",
    "$$\n",
    "\n",
    "This forms the line through the origin and the point $v$. A line is a one-dimensional gemoetrical object.\n",
    "\n",
    "An even simpler case is the span of an empty set of vectors. We saw...that the span consists of exactly one vector, the zero vector. Thus in this case the span consists of a point, which we consider a zero-dimensional geometrical object."
   ]
  },
  {
   "cell_type": "markdown",
   "id": "a75a1f45-c8dd-4cfe-9058-b03da07fdc85",
   "metadata": {},
   "source": [
    "Wow, for the past 2 days I've been stuck here because I didn't understand how `[1,0,1.65]` and `[0,1,1]` could describe a plane. They don't, their linear combinations do.\n",
    "\n",
    "Where the scalars belong to $\\mathbb{R}$, the possible linear combinations of those two vectors can be any point between those lines, describing 360 degrees around the origin in a plane. of course"
   ]
  },
  {
   "cell_type": "markdown",
   "id": "5b497ca0-6391-4e5e-8816-2032ef196493",
   "metadata": {},
   "source": [
    "One thing worth noting from **Example 3.3.4**, any two vectors do not automatically describe a plane. If the vectors lie along each other (e.g., `[1,2]` and `[2,4]`, they form a line. There's a term for this I heard in 3b1b. I need to rewatch his videos."
   ]
  },
  {
   "cell_type": "markdown",
   "id": "1a838310-6a52-45e0-a1de-f164fb10b98f",
   "metadata": {},
   "source": [
    "- The span of zero vectors forms a point--a zero-dimensional object--which must be the origin.\n",
    "- The span of one vector forms a line through the origin--a one-dimensional object--or a point, the origin.\n",
    "- The span of two vectors forms a plane through the origin--a two-dimensional object--or a line through the origin, or a point, the origin (**I don't know how a point is possible with two vectors unless the vectors are equivalent, in which case the span is actually one vector?)"
   ]
  },
  {
   "cell_type": "markdown",
   "id": "14b4d040-fb7f-4277-bc71-d09c4f90ce8b",
   "metadata": {},
   "source": [
    "A geometric object such as a point, a line, or a plane is called a *flat.* There are higher-dimensional flats too. All of $\\mathbb{R}$ is a three-dimensional flat. Although this is hard to envision, one can define a three-dimensional flat in four-dimensional space, $\\mathbb{R}^4$, and so on.\n",
    "\n",
    "So then, that means $\\mathbb{R}^2$ is a flat within $\\mathbb{R^3}$, right?"
   ]
  },
  {
   "cell_type": "markdown",
   "id": "8c798b2e-02be-4839-b6d3-0d14c49acfd9",
   "metadata": {},
   "source": [
    "One thing kind of irritating about this book is how many questions get offloaded to later chapters. I mean, I understand, but god, stop teasing, dick."
   ]
  },
  {
   "cell_type": "markdown",
   "id": "1e9684f0-5165-4c64-b90c-22967f5f0e21",
   "metadata": {},
   "source": [
    "Assuming $\\{(x,y,z) \\in \\mathbb{R}^3 : ax + by + cz = d\\}$, the plane containing the origin requires that $d = 0$.\n",
    "\n",
    "The plane is the solution set of a linear equation with right-hand side zero."
   ]
  },
  {
   "cell_type": "markdown",
   "id": "1ea1ccf0-a077-477b-9e0d-840d297fd564",
   "metadata": {},
   "source": [
    "**Definition 3.3.8:** A linear equation with right-hand side zero is a *homogenous* linear equation."
   ]
  },
  {
   "cell_type": "markdown",
   "id": "13d564ee-4427-4974-9e4b-63d8152bb60e",
   "metadata": {},
   "source": [
    "**Definition 3.3.11:** A linear system (collection of linear equations) with all right-hand sides zero is called a *homogenous* linear system."
   ]
  },
  {
   "cell_type": "markdown",
   "id": "bf2be9b3-49d7-4e59-bdb4-6d3fb5a3f364",
   "metadata": {},
   "source": [
    "So I don't quite get the whole d = 0 thing. I think I should just assume it to be the case. Why *must* it be the case that d = 0?"
   ]
  },
  {
   "cell_type": "code",
   "execution_count": null,
   "id": "f8dcc6f6-f395-40a0-9f10-9cb963ea6831",
   "metadata": {},
   "outputs": [],
   "source": []
  }
 ],
 "metadata": {
  "kernelspec": {
   "display_name": "Python 3 (ipykernel)",
   "language": "python",
   "name": "python3"
  },
  "language_info": {
   "codemirror_mode": {
    "name": "ipython",
    "version": 3
   },
   "file_extension": ".py",
   "mimetype": "text/x-python",
   "name": "python",
   "nbconvert_exporter": "python",
   "pygments_lexer": "ipython3",
   "version": "3.9.6"
  }
 },
 "nbformat": 4,
 "nbformat_minor": 5
}
