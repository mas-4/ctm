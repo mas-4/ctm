{
 "cells": [
  {
   "cell_type": "markdown",
   "id": "1c83b4ec",
   "metadata": {},
   "source": [
    "Braces define a set (in Python as in Mathematics)\n",
    "\n",
    "$\\heartsuit \\in \\{ \\diamondsuit, \\heartsuit, \\spadesuit, \\clubsuit \\}$ read \"Heart belongs to the set of suits.\"\n",
    "\n",
    "$\\mathbb{R}$ denotes all real numbers, $\\mathbb{C}$ denotes all complex numbers.\n",
    "\n",
    "$|S|$ denotes the cardinality of the finite set $S$. Cardinality is the number of\n",
    "elements. The set of suits has cardinality 4."
   ]
  },
  {
   "cell_type": "markdown",
   "id": "52efd978",
   "metadata": {},
   "source": [
    "The Cartesian Product of $A$, $B$ is the set of all pairs $(a,b)$ where $a \\in A$ and $b \\in\n",
    "B$.\n",
    "\n",
    "The cardinality of $|A \\cdot B| = |A| \\cdot |B|$.\n",
    "\n",
    "> Formally, a function is a set of pairs no two of which share the same first entry.\n",
    "\n",
    "How quaint.\n",
    "\n",
    "More jargon: the output of a function is said to be the image of the input under\n",
    "the function and the input is the pre-image of the output.\n",
    "\n",
    "The set $D$ of possible inputs is the ***domain*** of the function.\n",
    "\n",
    "If $r = f(q)$ we say that \"q maps to r under f\" denoted as $q \\mapsto r$.\n",
    "\n",
    "The \"co-domain\" is a set from which the function's output values are chosen.\n",
    "\n",
    "$f : D \\mapsto F$ means that $f$ is a function whose domain is the set $D$ and whose\n",
    "co-domain is the set $F$.\n",
    "\n",
    "The image of a function $f$ is the set of images of all domain elements.\n",
    "\n",
    "In this book they refer to Python 'functions' as 'procedures' to avoid\n",
    "confusion.\n",
    "\n",
    "A computational problem is an input-output specification that a procedure might\n",
    "satisfy.\n",
    "\n",
    "For sets $D$ & $F$ we use the notation $F^D$ to denote all functions from $D$ to $F$. The\n",
    "set of functions from the set $W$ of words to the set $\\mathbb{R}$ of real numbers is denoted\n",
    "$\\mathbb{R}^W$."
   ]
  },
  {
   "cell_type": "markdown",
   "id": "9f22f6f1",
   "metadata": {},
   "source": [
    "For any finite sets $D$ & $F$, $|D^F| = |D|^|F|$.\n",
    "\n",
    "For any domain $D$, there is a function $\\text{id}_D : D \\mapsto D$ called the identity\n",
    "function for $D$, defined by\n",
    "\n",
    "$$\n",
    "\\text{id}_D(d) = d\n",
    "$$\n",
    "\n",
    "for every $d \\in D$.\n",
    "\n",
    "Composition of functions $( g \\circ f )(x) = g(f(x))$\n",
    "\n"
   ]
  }
 ],
 "metadata": {
  "kernelspec": {
   "display_name": "Python 3 (ipykernel)",
   "language": "python",
   "name": "python3"
  },
  "language_info": {
   "codemirror_mode": {
    "name": "ipython",
    "version": 3
   },
   "file_extension": ".py",
   "mimetype": "text/x-python",
   "name": "python",
   "nbconvert_exporter": "python",
   "pygments_lexer": "ipython3",
   "version": "3.9.6"
  }
 },
 "nbformat": 4,
 "nbformat_minor": 5
}
